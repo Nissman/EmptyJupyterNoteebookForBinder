{
 "cells": [
  {
   "cell_type": "code",
   "execution_count": 32,
   "metadata": {},
   "outputs": [
    {
     "name": "stdout",
     "output_type": "stream",
     "text": [
      "{0: 0, 1: (1,), 2: (1, 2), 3: (1, 2, 3), 4: (1, 2, 3, 4), 5: (1, 2, 3, 4, 5), 6: (1, 2, 3, 4, 5, 6)}\n"
     ]
    }
   ],
   "source": [
    "def ld(x):\n",
    "    x.sort()\n",
    "    my_dict={0:0}\n",
    "    xx=x\n",
    "    my_tuple=tuple(xx)\n",
    "    for e in xx:\n",
    "          my_dict[e] = my_tuple[0:e:1]\n",
    "    return my_dict\n",
    "\n",
    "my_list=[6,5,4,3,2,1]\n",
    "print(ld(my_list))"
   ]
  },
  {
   "cell_type": "code",
   "execution_count": null,
   "metadata": {},
   "outputs": [],
   "source": []
  }
 ],
 "metadata": {
  "kernelspec": {
   "display_name": "Python 3",
   "language": "python",
   "name": "python3"
  },
  "language_info": {
   "codemirror_mode": {
    "name": "ipython",
    "version": 3
   },
   "file_extension": ".py",
   "mimetype": "text/x-python",
   "name": "python",
   "nbconvert_exporter": "python",
   "pygments_lexer": "ipython3",
   "version": "3.7.6"
  }
 },
 "nbformat": 4,
 "nbformat_minor": 2
}
