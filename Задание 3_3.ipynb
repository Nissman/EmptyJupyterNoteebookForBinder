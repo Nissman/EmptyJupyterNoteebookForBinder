{
 "cells": [
  {
   "cell_type": "code",
   "execution_count": 42,
   "metadata": {},
   "outputs": [
    {
     "name": "stdout",
     "output_type": "stream",
     "text": [
      "['В', 'л', 'а', 'д', 'и', 'с', 'л', 'а', 'в'] \n",
      "\n",
      "['В', 'а', 'а', 'в', 'д', 'и', 'л', 'л', 'с'] \n",
      "\n",
      "['а', 'д', 'и', 'с', 'л', 'а', 'в', 'В', 'а', 'а', 'в', 'д', 'и', 'л', 'л', 'с'] \n",
      "\n"
     ]
    }
   ],
   "source": [
    "my_list_1=list('Владислав')\n",
    "my_list_2=my_list_1.copy()\n",
    "\n",
    "my_list_2.sort()\n",
    "\n",
    "my_list_3=my_list_1+my_list_2\n",
    "for i in range(1,3,1):\n",
    "    my_list_3.pop(i-i)\n",
    "\n",
    "print(my_list_1,'\\n')\n",
    "print(my_list_2,'\\n')\n",
    "print(my_list_3,'\\n')\n"
   ]
  },
  {
   "cell_type": "code",
   "execution_count": null,
   "metadata": {},
   "outputs": [],
   "source": []
  }
 ],
 "metadata": {
  "kernelspec": {
   "display_name": "Python 3",
   "language": "python",
   "name": "python3"
  },
  "language_info": {
   "codemirror_mode": {
    "name": "ipython",
    "version": 3
   },
   "file_extension": ".py",
   "mimetype": "text/x-python",
   "name": "python",
   "nbconvert_exporter": "python",
   "pygments_lexer": "ipython3",
   "version": "3.7.6"
  }
 },
 "nbformat": 4,
 "nbformat_minor": 2
}
